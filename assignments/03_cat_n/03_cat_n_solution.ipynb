{
 "cells": [
  {
   "cell_type": "markdown",
   "metadata": {},
   "source": [
    "### cat_n.sh\n",
    "\n",
    "Write a bash program called `cat_n.sh` that mimics the behavior of `cat -n` where it will print the line number \n",
    "and line of an input file. If there are no arguments, it should print a \"Usage\" and exit *with an error code*. Your program will expect to receive an argument in `$1`. If the argument is not a file, it should notify the user and exit *with an error code*. It will iterate over the lines in the file and print the line number, a space, and the line of the file. \n",
    "\n",
    "Your output will differ from regular `cat -n` as I won't expect you to right-align the numbers.\n",
    "\n",
    "````\n",
    "$ ./cat_n.sh\n",
    "Usage: cat-n.sh FILE\n",
    "$ ./cat_n.sh foo\n",
    "foo is not a file\n",
    "$ ./cat_n.sh sonnet-29.txt\n",
    "1 Sonnet 29\n",
    "2 William Shakespeare\n",
    "3\n",
    "4 When, in disgrace with fortune and men’s eyes,\n",
    "5 I all alone beweep my outcast state,\n",
    "6 And trouble deaf heaven with my bootless cries,\n",
    "7 And look upon myself and curse my fate,\n",
    "8 Wishing me like to one more rich in hope,\n",
    "9 Featured like him, like him with friends possessed,\n",
    "10 Desiring this man’s art and that man’s scope,\n",
    "11 With what I most enjoy contented least;\n",
    "12 Yet in these thoughts myself almost despising,\n",
    "13 Haply I think on thee, and then my state,\n",
    "14 (Like to the lark at break of day arising\n",
    "15 From sullen earth) sings hymns at heaven’s gate;\n",
    "16 For thy sweet love remembered such wealth brings\n",
    "17 That then I scorn to change my state with kings.\n",
    "````"
   ]
  },
  {
   "cell_type": "code",
   "execution_count": null,
   "metadata": {},
   "outputs": [],
   "source": [
    "# Go to your working directory\n",
    "netid = \"bonnie\"\n",
    "%cd /xdisk/bhurwitz/bh_class/$netid/assignments/03_cat_n"
   ]
  },
  {
   "cell_type": "code",
   "execution_count": null,
   "metadata": {},
   "outputs": [],
   "source": [
    "# Let's create a text file with the sonnet\n",
    "sonnet_29 = '''Sonnet 29\n",
    "William Shakespeare\n",
    "\n",
    "When, in disgrace with fortune and men’s eyes,\n",
    "I all alone beweep my outcast state,\n",
    "And trouble deaf heaven with my bootless cries,\n",
    "And look upon myself and curse my fate,\n",
    "Wishing me like to one more rich in hope,\n",
    "Featured like him, like him with friends possessed,\n",
    "Desiring this man’s art and that man’s scope,\n",
    "With what I most enjoy contented least;\n",
    "Yet in these thoughts myself almost despising,\n",
    "Haply I think on thee, and then my state,\n",
    "(Like to the lark at break of day arising\n",
    "From sullen earth) sings hymns at heaven’s gate;\n",
    "For thy sweet love remembered such wealth brings\n",
    "That then I scorn to change my state with kings.\n",
    "'''\n",
    "\n",
    "with open('sonnet-29.txt', mode='w') as file:\n",
    "    file.write(sonnet_29)"
   ]
  },
  {
   "cell_type": "code",
   "execution_count": null,
   "metadata": {},
   "outputs": [],
   "source": [
    "# Now write the cat_n.sh script.\n",
    "code_for_script = '''#!/bin/bash\n",
    "\n",
    "# Step 1: Use an if/then statement to check that the number of input files \n",
    "# You can use $# to check the number of input files is not equal to 1\n",
    "# If the number of files is not equal to 1 then show the usage statement. \n",
    "# Remember to \"exit 1\" (with an error) if the number of files is not equal to 1\n",
    "# See “Checking the number of arguments” in the HW2 assignment\n",
    "\n",
    "if [[ $# -ne 1 ]]; then\n",
    "    echo \"Usage: cat-n.sh FILE\"\n",
    "    exit 1\n",
    "fi\n",
    "\n",
    "# Step 2: Use an if/then statement to check if the input file isn't a file, otherwise \"exit 1\" (with an error)\n",
    "# See the “For loops” section in the HW2, instead of checking if something is a directory, check if it is a file (-f)\n",
    "\n",
    "FILE=$1\n",
    "\n",
    "if [[ ! -f \"$FILE\" ]]; then\n",
    "    echo \"$FILE is not a file\"\n",
    "    exit 1\n",
    "fi\n",
    "\n",
    "# Step 3: Write a while loop to go through the file, and increment the counter (i) to change the line number.\n",
    "# See the \"While Loops” section in HW2\n",
    "\n",
    "i=0\n",
    "while read -r LINE; do\n",
    "    i=$((i+1))\n",
    "    echo \"$i $LINE\"\n",
    "done < \"$FILE\"\n",
    "\n",
    "'''\n",
    "\n",
    "with open('cat_n.sh', mode='w') as file:\n",
    "    file.write(code_for_script)"
   ]
  },
  {
   "cell_type": "code",
   "execution_count": null,
   "metadata": {},
   "outputs": [],
   "source": [
    "!ls -l"
   ]
  },
  {
   "cell_type": "code",
   "execution_count": null,
   "metadata": {},
   "outputs": [],
   "source": [
    "!chmod +x cat_n.sh"
   ]
  },
  {
   "cell_type": "code",
   "execution_count": null,
   "metadata": {},
   "outputs": [],
   "source": [
    "# Test your script ( you should get \"Usage: cat-n.sh FILE\")\n",
    "!./cat_n.sh"
   ]
  },
  {
   "cell_type": "code",
   "execution_count": null,
   "metadata": {},
   "outputs": [],
   "source": [
    "# Test your script ( you should get \"foo is not a file\")\n",
    "!./cat_n.sh foo"
   ]
  },
  {
   "cell_type": "code",
   "execution_count": null,
   "metadata": {},
   "outputs": [],
   "source": [
    "# Test your script\n",
    "!./cat_n.sh sonnet-29.txt"
   ]
  },
  {
   "cell_type": "markdown",
   "metadata": {},
   "source": [
    "You should get:\n",
    "```\n",
    "1 Sonnet 29\n",
    "2 William Shakespeare\n",
    "3\n",
    "4 When, in disgrace with fortune and men’s eyes,\n",
    "5 I all alone beweep my outcast state,\n",
    "6 And trouble deaf heaven with my bootless cries,\n",
    "7 And look upon myself and curse my fate,\n",
    "8 Wishing me like to one more rich in hope,\n",
    "9 Featured like him, like him with friends possessed,\n",
    "10 Desiring this man’s art and that man’s scope,\n",
    "11 With what I most enjoy contented least;\n",
    "12 Yet in these thoughts myself almost despising,\n",
    "13 Haply I think on thee, and then my state,\n",
    "14 (Like to the lark at break of day arising\n",
    "15 From sullen earth) sings hymns at heaven’s gate;\n",
    "16 For thy sweet love remembered such wealth brings\n",
    "17 That then I scorn to change my state with kings.\n",
    "```"
   ]
  },
  {
   "cell_type": "code",
   "execution_count": null,
   "metadata": {},
   "outputs": [],
   "source": [
    "cp ~/03_cat_n.ipynb /xdisk/bhurwitz/bh_class/$netid/assignments/03_cat_n"
   ]
  }
 ],
 "metadata": {
  "kernelspec": {
   "display_name": "Python 3 (ipykernel)",
   "language": "python",
   "name": "python3"
  },
  "language_info": {
   "codemirror_mode": {
    "name": "ipython",
    "version": 3
   },
   "file_extension": ".py",
   "mimetype": "text/x-python",
   "name": "python",
   "nbconvert_exporter": "python",
   "pygments_lexer": "ipython3",
   "version": "3.8.12"
  }
 },
 "nbformat": 4,
 "nbformat_minor": 2
}
