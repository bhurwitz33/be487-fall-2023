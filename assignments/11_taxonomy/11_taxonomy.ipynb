{
 "cells": [
  {
   "cell_type": "markdown",
   "id": "5de7bac8",
   "metadata": {},
   "source": [
    "# Taxonomic Annotation of Reads\n",
    "\n",
    "This notebook will go through the workflow assigning taxonomy to reads from a microbiome\n",
    "\n",
    "1. Taxonomic assignment of reads using Kraken2\n",
    "2. Refinement of the taxonomic annotation using Bracken\n"
   ]
  },
  {
   "cell_type": "markdown",
   "id": "07ebed36",
   "metadata": {},
   "source": [
    "## Getting Started\n",
    "\n",
    "You will need to rerun this section each time you come back to this notebook to reset all directories and variables."
   ]
  },
  {
   "cell_type": "code",
   "execution_count": null,
   "id": "e7a46521",
   "metadata": {},
   "outputs": [],
   "source": [
    "# set the variables for your netid and xfile\n",
    "netid = \"MY_NETID\"\n",
    "xfile = \"MY_XFILE\""
   ]
  },
  {
   "cell_type": "code",
   "execution_count": null,
   "id": "75d388ce",
   "metadata": {},
   "outputs": [],
   "source": [
    "# Go into the working directory\n",
    "work_dir = \"/xdisk/bhurwitz/bh_class/\" + netid + \"/assignments/11_taxonomy\"\n",
    "%cd $work_dir"
   ]
  },
  {
   "cell_type": "markdown",
   "id": "380dffed",
   "metadata": {},
   "source": [
    "## Creating a config file\n",
    "Let's create a config file with all of the variables we will need in the scripts below. Then when we want to use these variables in the script, we will \"source\" the config file to set the variables."
   ]
  },
  {
   "cell_type": "code",
   "execution_count": null,
   "id": "049cf341",
   "metadata": {},
   "outputs": [],
   "source": [
    "# create a config file with all of the variables you need\n",
    "# notice that now we are defining the tools here too, to make out scripts easier to read below\n",
    "# also, if we want to update to a newer version of the tool we can just edit here.\n",
    "!echo \"export NETID=$netid\" > config.sh\n",
    "!echo \"export XFILE=$xfile\" >> config.sh\n",
    "!echo \"export WORK_DIR=/xdisk/bhurwitz/bh_class/$netid/assignments/11_taxonomy\" >> config.sh\n",
    "!echo \"export XFILE_DIR=/xdisk/bhurwitz/bh_class/$netid/assignments/05_getting_data\" >> config.sh\n",
    "!echo \"export FASTQ_DIR=/xdisk/bhurwitz/bh_class/$netid/assignments/07_contam_removal\" >> config.sh\n",
    "!echo \"export CONTAINERS=/contrib/singularity/shared/bhurwitz\" >> config.sh\n",
    "!echo \"export KRAKEN2=/contrib/singularity/shared/bhurwitz/kraken2:2.1.3--pl5321hdcf5f25_0.sif\" >> config.sh\n",
    "!echo \"export BRACKEN=/contrib/singularity/shared/bhurwitz/bracken:2.8--py39h1f90b4d_1.sif\" >> conifg.sh\n",
    "!echo \"export KRAKENTOOLS=/contrib/singularity/shared/bhurwitz/krakentools:1.2--pyh5e36f6f_0.sif\" >> config.sh\n",
    "!echo \"export DB_DIR=/groups/bhurwitz/databases/kraken2/k2_pluspf_20230605\" >> config.sh\n",
    "!echo \"export KMER_SIZE=100\" >> config.sh\n"
   ]
  },
  {
   "cell_type": "code",
   "execution_count": null,
   "id": "1996dcc0",
   "metadata": {},
   "outputs": [],
   "source": [
    "# check the config file to be sure it is correct\n",
    "# Is your netid and xfile correct? Do you have the right directories?\n",
    "!cat config.sh"
   ]
  },
  {
   "cell_type": "markdown",
   "id": "bfeaabfe",
   "metadata": {},
   "source": [
    "## Step 1: Assigning taxonomy to the reads\n",
    "\n",
    "In this step, we will assign taxonomy to each of the reads in our microbiome (where possible). "
   ]
  },
  {
   "cell_type": "code",
   "execution_count": null,
   "id": "df7e3021",
   "metadata": {},
   "outputs": [],
   "source": [
    "# Create a script to run bowtie2 to align reads to a human reference\n",
    "# A few important points:\n",
    "# 1. We are using the variables from the config file via the `source ./config.sh` command in the script.\n",
    "# 2. bowtie2 runs on each of the fastq files in the trimmed $FASTQ_DIR\n",
    "# 3. The results will be written into our $WORK_DIR\n",
    "# 4. Notice that we are asking for alot more resource (24 cores and 5G of memory per core), we are also asking for more time (24 hours)\n",
    "my_code = '''#!/bin/bash\n",
    "#SBATCH --ntasks=1\n",
    "#SBATCH --nodes=1             \n",
    "#SBATCH --time=24:00:00   \n",
    "#SBATCH --partition=standard\n",
    "#SBATCH --account=bh_class\n",
    "#SBATCH --array=0-4                         \n",
    "#SBATCH --output=Job-kraken2-%a.out\n",
    "#SBATCH --cpus-per-task=24\n",
    "#SBATCH --mem-per-cpu=5G   \n",
    "\n",
    "pwd; hostname; date\n",
    "\n",
    "source $SLURM_SUBMIT_DIR/config.sh\n",
    "names=($(cat $XFILE_DIR/$XFILE))\n",
    "\n",
    "SAMPLE_ID=${names[${SLURM_ARRAY_TASK_ID}]}\n",
    "\n",
    "### reads with human removed to match to the reference database\n",
    "PAIR1=${FASTQ_DIR}/${SAMPLE_ID}_1.fastq.gz\n",
    "PAIR2=${FASTQ_DIR}/${SAMPLE_ID}_2.fastq.gz\n",
    "\n",
    "KRAKEN_OUTDIR=${WORK_DIR}/out_kraken\n",
    "OUTDIR=${KRAKEN_OUTDIR}/${SAMPLE_ID}\n",
    "HUMAN_READ_DIR=${OUTDIR}/human_reads\n",
    "NONHUMAN_READ_DIR=${OUTDIR}/nonhuman_reads\n",
    "\n",
    "### create the outdir if it does not exist\n",
    "if [[ ! -d \"$KRAKEN_OUTDIR\" ]]; then\n",
    "  echo \"$KRAKEN_OUTDIR does not exist. Directory created\"\n",
    "  mkdir $KRAKEN_OUTDIR\n",
    "fi\n",
    "\n",
    "if [[ ! -d \"$OUTDIR\" ]]; then\n",
    "  echo \"$OUTDIR does not exist. Directory created\"\n",
    "  mkdir $OUTDIR\n",
    "fi\n",
    "\n",
    "apptainer run ${KRAKEN2} kraken2 \\\n",
    "              --db ${DB_DIR} \\ \n",
    "              --paired \\\n",
    "              --classified-out ${OUTDIR}/cseqs.fq \\\n",
    "              --output ${OUTDIR}/kraken_results.txt \\\n",
    "              --report ${OUTDIR}/kraken_report.txt \\\n",
    "              --use-names \\\n",
    "              --threads ${SLURM_CPUS_PER_TASK} \\ \n",
    "              ${PAIR1} ${PAIR2}\n",
    "\n",
    "TAXID=9606\n",
    "apptainer run ${KRAKENTOOLS} extract_kraken_reads.py \\\n",
    "             -k ${OUTDIR}/kraken_results.txt \\ \n",
    "             --report ${OUTDIR}/kraken_report.txt \\\n",
    "             -s1 ${PAIR1} \\\n",
    "             -s2 ${PAIR2} \\\n",
    "             --taxid ${TAXID} \\  \n",
    "             --output ${HUMAN_READ_DIR}/r1.fq \\  \n",
    "             --output2 ${HUMAN_READ_DIR}/r2.fq \\\n",
    "             --include-children \\\n",
    "             --fastq-output\n",
    "\n",
    "gzip ${HUMAN_READ_DIR}/r1.fq\n",
    "gzip ${HUMAN_READ_DIR}/r2.fq\n",
    "\n",
    "### selects all reads NOT from a given set of Kraken taxids (and all children)\n",
    "\n",
    "apptainer run ${KRAKENTOOLS} extract_kraken_reads.py \\\n",
    "             -k ${OUTDIR}/kraken_results.txt \\\n",
    "             --report ${OUTDIR}/kraken_report.txt \\\n",
    "             -s1 ${PAIR1} \\\n",
    "             -s2 ${PAIR2} \\\n",
    "             --taxid ${TAXID} \\\n",
    "             --output ${NONHUMAN_READ_DIR}/r1.fq \\\n",
    "             --output2 ${NONHUMAN_READ_DIR}/r2.fq \\\n",
    "             --include-children \\\n",
    "             --exclude \\\n",
    "             --fastq-output\n",
    "\n",
    "gzip ${NONHUMAN_READ_DIR}/r1.fq\n",
    "gzip ${NONHUMAN_READ_DIR}/r2.fq\n",
    " \n",
    "echo \"Finished `date`\"\n",
    "\n",
    "'''\n",
    "\n",
    "with open('run_kraken_parallel.sh', mode='w') as file:\n",
    "    file.write(my_code)"
   ]
  },
  {
   "cell_type": "code",
   "execution_count": null,
   "id": "231b9374",
   "metadata": {},
   "outputs": [],
   "source": [
    "# Check the code and make sure your script above was created.\n",
    "!cat run_kraken_parallel.sh"
   ]
  },
  {
   "cell_type": "code",
   "execution_count": null,
   "id": "e9e42306",
   "metadata": {},
   "outputs": [],
   "source": [
    "# you should be in your working directory when you run this script\n",
    "# do you see your config.sh file, and the remove_human_parallel.sh script?\n",
    "!pwd\n",
    "!ls"
   ]
  },
  {
   "cell_type": "code",
   "execution_count": null,
   "id": "fe884278",
   "metadata": {},
   "outputs": [],
   "source": [
    "# Let's run sbatch to run bowtie on each of your trimmed fastq files to remove human\n",
    "# Remember that this may take a while to run, so take a break, and get a coffee.\n",
    "!sbatch ./run_kraken_parallel.sh"
   ]
  },
  {
   "cell_type": "code",
   "execution_count": null,
   "id": "3699608e",
   "metadata": {},
   "outputs": [],
   "source": [
    "# You can check if it is running using the squeue command\n",
    "# Check for all jobs under your netid\n",
    "!squeue --user=$netid"
   ]
  },
  {
   "cell_type": "code",
   "execution_count": null,
   "id": "36e70ffc",
   "metadata": {},
   "outputs": [],
   "source": [
    "# Once your jobs have run (or are running) you can check the progress\n",
    "# and also look for errors in the *out files\n",
    "# For example, you can look at Job-rem_human-0.out\n",
    "!ls\n",
    "!cat Job-kraken-0.out"
   ]
  },
  {
   "cell_type": "code",
   "execution_count": null,
   "id": "89d7e85b",
   "metadata": {},
   "outputs": [],
   "source": [
    "# Double check that all of your files have run through the human screening\n",
    "# Do you see a *_1.fastq.gz and *_2.fastq.gz file in the working directory?\n",
    "# Of not, you will need to check your job out files above for clues about what went wrong.\n",
    "!ls $work_dir"
   ]
  },
  {
   "cell_type": "code",
   "execution_count": null,
   "id": "1828e575",
   "metadata": {},
   "outputs": [],
   "source": [
    "# Do the fastq files (post-human filter) look smaller than the ones that were trimmed?\n",
    "# list the file sizes for fastq files post-human filtering\n",
    "!ls -l $work_dir"
   ]
  },
  {
   "cell_type": "code",
   "execution_count": null,
   "id": "993611c8",
   "metadata": {},
   "outputs": [],
   "source": [
    "# list the file sizes for fastq files before human filtering'\n",
    "!ls -l /xdisk/bhurwitz/bh_class/$netid/assignments/11_taxonomy"
   ]
  },
  {
   "cell_type": "markdown",
   "id": "f8b30b51",
   "metadata": {},
   "source": [
    "Great job! It looks like you have removed *most* of the human reads from your fastq files. We will double check this when we run kraken2 on the files to classify each of the reads by taxonomy.\n",
    "\n",
    "Another quick note, you may need to remove additional contamination using the same approach. For example, the sequencing center may have use PhiX as a \"spike-in\" to assess the quality of the sequencing run with a known quantity of DNA. You can use the same approach as above to remove reads from any genome you think may be contaminating your sample."
   ]
  },
  {
   "cell_type": "markdown",
   "id": "83501ab5",
   "metadata": {},
   "source": [
    "## Final Step\n",
    "Copy your notebook to the current working directory"
   ]
  },
  {
   "cell_type": "code",
   "execution_count": null,
   "id": "b5b6190d",
   "metadata": {},
   "outputs": [],
   "source": [
    "cp ~/07_contam_removal.ipynb $work_dir"
   ]
  }
 ],
 "metadata": {
  "kernelspec": {
   "display_name": "Python 3 (ipykernel)",
   "language": "python",
   "name": "python3"
  },
  "language_info": {
   "codemirror_mode": {
    "name": "ipython",
    "version": 3
   },
   "file_extension": ".py",
   "mimetype": "text/x-python",
   "name": "python",
   "nbconvert_exporter": "python",
   "pygments_lexer": "ipython3",
   "version": "3.8.12"
  }
 },
 "nbformat": 4,
 "nbformat_minor": 5
}
