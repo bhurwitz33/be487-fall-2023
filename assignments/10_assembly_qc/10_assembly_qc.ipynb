{
 "cells": [
  {
   "cell_type": "markdown",
   "id": "239d2480",
   "metadata": {},
   "source": [
    "## Quality Check: Assemblies\n",
    "\n",
    "This notebook will work through two quality checks after your assemblies run. We'll be looking at Quast and Checkm2\n"
   ]
  },
  {
   "cell_type": "markdown",
   "id": "2b3fa9c1",
   "metadata": {},
   "source": [
    "## Getting Started\n",
    "\n",
    "Let's make sure the assembly ran with no issue. We're looking for log files and the final .fasta files containing the contigs."
   ]
  },
  {
   "cell_type": "code",
   "execution_count": null,
   "id": "5f65dacd",
   "metadata": {},
   "outputs": [],
   "source": [
    "%cd /xdisk/bhurwitz/YOUR_NAME/assembly/out_spades"
   ]
  },
  {
   "cell_type": "markdown",
   "id": "8f659efe",
   "metadata": {},
   "source": [
    "## Checking the Metagenome Assembled Genomes (MAGs)\n",
    "\n",
    "All of your metagenomes should have a results directory. If you see that any are missing, this is a clue that your assemblies didn't all run. Let's check what we have so far in our spades output"
   ]
  },
  {
   "cell_type": "code",
   "execution_count": null,
   "id": "44e760d3",
   "metadata": {},
   "outputs": [],
   "source": [
    "!ls out_*"
   ]
  },
  {
   "cell_type": "markdown",
   "id": "5afd05f0",
   "metadata": {},
   "source": [
    "Great! Looks like we have all of our metagenomes (or if not, then check the slurm logs to fix). Let's see if the assemblies completed. Let's say your accession is SRR14881731. Let's go into that directory and look at the output files "
   ]
  },
  {
   "cell_type": "code",
   "execution_count": null,
   "id": "43e487e8",
   "metadata": {},
   "outputs": [],
   "source": [
    "%cd out_spades.SRR14881731 #double check -- if this is the correct auto-output data\n",
    "!ls -l"
   ]
  },
  {
   "cell_type": "markdown",
   "id": "4032b85b",
   "metadata": {},
   "source": [
    "OK, that is a lot of information. Which files matter? First, we can look at the log file to see how the assembly went..."
   ]
  },
  {
   "cell_type": "code",
   "execution_count": null,
   "id": "2fc4766c",
   "metadata": {},
   "outputs": [],
   "source": [
    "!cat spades.log"
   ]
  },
  {
   "cell_type": "markdown",
   "id": "d91d708f",
   "metadata": {},
   "source": [
    "This file contains all of the output from the Spades assembler as it was running. Most of this isn't terribly useful to you if you just plan on using the defaults for the tool. But, can be useful if you get a bad assembly and want to optimize the parameters. For now, let's just be happy that we see the very last line \"Thank you for using SPAdes!\". This means that the assembly process ran all the way through without dying! Good news. OK, so now we have an assembly. Where are the assembled contigs? They are all in a file called scaffolds.fasta. Let's make sure that file exists and that we have some contigs in the file."
   ]
  },
  {
   "cell_type": "code",
   "execution_count": null,
   "id": "8dca4dc1",
   "metadata": {},
   "outputs": [],
   "source": [
    "# metaspades\n",
    "!head scaffolds.fasta"
   ]
  },
  {
   "cell_type": "markdown",
   "id": "95b83a82",
   "metadata": {},
   "source": [
    "Yeah! We got contigs. How big are the contigs? You can see this by looking at description in the fatsa file for each contig."
   ]
  },
  {
   "cell_type": "code",
   "execution_count": null,
   "id": "7e5058ee",
   "metadata": {},
   "outputs": [],
   "source": [
    "# megahit\n",
    "!egrep \">\" final.contigs.fa | sed 's/.*len=//' | sort -nr | head\n",
    "!grep -A1 882650 final.contigs.fa | more"
   ]
  },
  {
   "cell_type": "markdown",
   "id": "a723306e",
   "metadata": {},
   "source": [
    "Great news! We are getting contigs that are >140K in length. We can check to see what these are by running [blast](https://blast.ncbi.nlm.nih.gov/Blast.cgi) on the web and selecting \"nucleotide blast\". First let's just grab the first few lines of the contig sequence to paste in."
   ]
  },
  {
   "cell_type": "code",
   "execution_count": null,
   "id": "379b0321",
   "metadata": {},
   "outputs": [],
   "source": [
    "!head -500 scaffolds.fasta"
   ]
  },
  {
   "cell_type": "markdown",
   "id": "5f2e7ea7",
   "metadata": {},
   "source": [
    "What organism do you see? Is this contamination? Or a real microbe in your microbiome?"
   ]
  },
  {
   "cell_type": "markdown",
   "id": "0e04ccb5",
   "metadata": {},
   "source": [
    "#### Note on how spades first contig is the largest "
   ]
  },
  {
   "cell_type": "markdown",
   "id": "4903cdc1",
   "metadata": {},
   "source": [
    "## Quast\n",
    "\n",
    "How good are our assemblies? We can check the quality by running tools that look at the contigs produced by our assembly algorithms. \n",
    "\n",
    "Let's see what the quality of this assembly looks like, using another bioinformatics tool called quast. We can run this tool from your assembly directory and run it on multiple assemblies. Here is where you write the sbatch code to run quast as follows:\n",
    "\n",
    "You can read the documentation [here](https://quast.sourceforge.net/docs/manual.html).\n",
    "\n",
    "For this tool we'll use our metaspades output."
   ]
  },
  {
   "cell_type": "code",
   "execution_count": null,
   "id": "e1df048d",
   "metadata": {},
   "outputs": [],
   "source": [
    "%cd /xdisk/bhurwitz/YOUR_NAME/check_assembly\n",
    "!mkdir out_quast"
   ]
  },
  {
   "cell_type": "code",
   "execution_count": null,
   "id": "434602b6",
   "metadata": {},
   "outputs": [],
   "source": [
    "!nano ~/scripts/run_quast.sh"
   ]
  },
  {
   "cell_type": "code",
   "execution_count": null,
   "id": "5f97892f",
   "metadata": {},
   "outputs": [],
   "source": [
    "#!/bin/bash\n",
    "#SBATCH --ntasks=1\n",
    "#SBATCH --nodes=1\n",
    "#SBATCH --time=12:00:00\n",
    "#SBATCH --partition=standard\n",
    "#SBATCH --account=bhurwitz\n",
    "#SBATCH --array=0-46                           # needs to be the number of metagenomes\n",
    "#SBATCH --output=Job-%a.out\n",
    "#SBATCH --cpus-per-task=24                    # num CPUs per task\n",
    "#SBATCH --mem=32G                             # total memory per node\n",
    "\n",
    "pwd; hostname; date\n",
    "\n",
    "names=($(cat /xdisk/bhurwitz/YOUR_NAME/bio_pipeline/data/SRR_Acc_List.txt))\n",
    "\n",
    "readdir=\"/xdisk/bhurwitz/YOUR_NAME/assembly/out_spades\"\n",
    "outdir=\"/xdisk/bhurwitz/YOUR_NAME/check_assembly/out_quast\"\n",
    "\n",
    "apptainer run /contrib/singularity/shared/bhurwitz/quast:5.2.0--py39pl5321h4e691d4_3.sif metaquast.py -t 24 \\\n",
    "        -o ${outdir}/${names[${SLURM_ARRAY_TASK_ID}]}\n",
    "        -m 500 $readdir/${names[${SLURM_ARRAY_TASK_ID}]}/scaffolds.fasta #this might change"
   ]
  },
  {
   "cell_type": "markdown",
   "id": "b3e7fdc0",
   "metadata": {},
   "source": [
    "#### Let's check out the assembly stats from QUAST"
   ]
  },
  {
   "cell_type": "code",
   "execution_count": null,
   "id": "1fae7092",
   "metadata": {},
   "outputs": [],
   "source": [
    "%cd /xdisk/bhurwitz/YOUR_NAME/check_assembly/out_quast\n",
    "!cat */report.txt #cats all reports\n",
    "!cat report.txt #cats only within the directory you're in"
   ]
  },
  {
   "cell_type": "markdown",
   "id": "aa743720",
   "metadata": {},
   "source": [
    "## Checkm2\n",
    "\n",
    "Checkm2 is another tool that allows you to produce a quality report on the assembled contigs.\n",
    "\n",
    "The documentation can be found [here](https://github.com/chklovski/CheckM2).\n",
    "\n",
    "For this tool we'll be using our megahit output."
   ]
  },
  {
   "cell_type": "markdown",
   "id": "76539c71",
   "metadata": {},
   "source": [
    "### Checkm2 database file\n",
    "\n",
    "This tool requires a database file to run. More information on downloading the database can be found in the documentation. The current database has been downloaded and saved in the following location:\n",
    "\n",
    "/groups/bhurwitz/databases/checkm2_database/uniref100.KO.1.dmnd"
   ]
  },
  {
   "cell_type": "code",
   "execution_count": null,
   "id": "6fe66bba",
   "metadata": {},
   "outputs": [],
   "source": [
    "%cd /xdisk/bhurwitz/YOUR_NAME/check_assembly\n",
    "!mkdir out_checkm2"
   ]
  },
  {
   "cell_type": "code",
   "execution_count": null,
   "id": "d7c815d3",
   "metadata": {},
   "outputs": [],
   "source": [
    "!nano ~/scripts/run_checkm2.sh"
   ]
  },
  {
   "cell_type": "code",
   "execution_count": null,
   "id": "49cbb858",
   "metadata": {},
   "outputs": [],
   "source": [
    "#!/bin/bash\n",
    "#SBATCH --ntasks=1\n",
    "#SBATCH --nodes=1\n",
    "#SBATCH --time=12:00:00\n",
    "#SBATCH --partition=standard\n",
    "#SBATCH --account=bhurwitz\n",
    "#SBATCH --array=0-4                           # needs to be the number of metagenomes\n",
    "#SBATCH --output=Job-%a.out\n",
    "#SBATCH --cpus-per-task=24                    # num CPUs per task\n",
    "#SBATCH --mem=48G                             # total memory per node\n",
    "\n",
    "# Fix the resource allocation \n",
    "\n",
    "pwd; hostname; date\n",
    "\n",
    "names=($(cat /xdisk/bhurwitz/YOUR_NAME/bio_pipeline/data/SRR_Acc_List.txt))\n",
    "\n",
    "readdir=\"/xdisk/bhurwitz/YOUR_NAME/assembly/out_megahit\"\n",
    "outdir=\"/xdisk/bhurwitz/YOUR_NAME/check_assembly/out_checkm2\"\n",
    "\n",
    "apptainer run /contrib/singularity/shared/bhurwitz/checkm2\\:1.0.1--pyh7cba7a3_0.sif checkm2 predict --threads 24 \\\n",
    "        --input $readdir/${names[${SLURM_ARRAY_TASK_ID}]}/final.contigs.fa  #this name will change \\\n",
    "        --output-directory $outdir/${names[${SLURM_ARRAY_TASK_ID}]} \\\n",
    "        --database_path /groups/bhurwitz/databases/checkm2_database/uniref100.KO.1.dmnd"
   ]
  },
  {
   "cell_type": "markdown",
   "id": "69a24a6d",
   "metadata": {},
   "source": [
    "#### Let's check out the assembly stats from Checkm2"
   ]
  },
  {
   "cell_type": "code",
   "execution_count": null,
   "id": "ef0a005f",
   "metadata": {},
   "outputs": [],
   "source": [
    "%cd /xdisk/bhurwitz/YOUR_NAME/check_assembly/out_checkm2\n",
    "!cat */checkm2.log #cats all reports\n",
    "!cat checkm2.log #cats only within the directory you're in"
   ]
  }
 ],
 "metadata": {
  "kernelspec": {
   "display_name": "Python 3 (ipykernel)",
   "language": "python",
   "name": "python3"
  },
  "language_info": {
   "codemirror_mode": {
    "name": "ipython",
    "version": 3
   },
   "file_extension": ".py",
   "mimetype": "text/x-python",
   "name": "python",
   "nbconvert_exporter": "python",
   "pygments_lexer": "ipython3",
   "version": "3.8.12"
  }
 },
 "nbformat": 4,
 "nbformat_minor": 5
}
