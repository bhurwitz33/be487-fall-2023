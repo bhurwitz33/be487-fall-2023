{
 "cells": [
  {
   "cell_type": "markdown",
   "metadata": {},
   "source": [
    "# Background: clustering metagenomes by similarity\n"
   ]
  },
  {
   "cell_type": "markdown",
   "metadata": {},
   "source": [
    "**SIMKA** is a de novo metagenomic comparative tool, allowing to computes a collection of standard ecological distances by replacing species counts by k-mer counts."
   ]
  },
  {
   "cell_type": "code",
   "execution_count": 1,
   "metadata": {},
   "outputs": [],
   "source": [
    "# What is the main advantage to use a de novo comparative metagenomic approach compared to a classic \n",
    "# taxonomic annotation to compare metagenomes?"
   ]
  },
  {
   "cell_type": "markdown",
   "metadata": {},
   "source": [
    "*De novo* metagenomic approaches ditch species composition altogether and compare microbial communities directly using the sequence content of metagenomic read sets. To do this, an all-vs-all sequence comparison is necessary. This kind of all-vs-all analysis was first performed by using BLAST (Yooseph et al., 2007) to create protein clusters from the Global Ocean Sampling (GOS) dataset. In this paper, the authors build a custom BLAST database from metagenomics reads and use BLAST to search for read matches from other metagenomes."
   ]
  },
  {
   "cell_type": "code",
   "execution_count": 2,
   "metadata": {},
   "outputs": [],
   "source": [
    "# Do you think that this kind of approach would scale to large metagenomic datasets?"
   ]
  },
  {
   "cell_type": "markdown",
   "metadata": {},
   "source": [
    "Instead of using a read-based comparison, recent tools represent a metagenome by a k-mer frequency vector that is then used to compute pairwise similarity matrices between multiple samples. \n",
    "\n",
    "All these reference-free methods use k-mers for comparing samples. These k-mers can be used to compare microbial communities for three primary reasons: (1) k-mers of a sufficient length are usually specific to a given genome (Fofanov et al., 2004); (2) k-mer frequency is linearly related to genome’s abundance (Wu & Ye, 2011); (3) k-mer aggregates organisms with very similar k-mer composition (e.g., related strains from the same bacterial species) without need for a classification of those organisms (Teeling et al., 2004). "
   ]
  },
  {
   "cell_type": "code",
   "execution_count": 3,
   "metadata": {},
   "outputs": [],
   "source": [
    "# Do you think kmer-based distance between metagenome is correlated to taxonomic distances or functional distances?"
   ]
  },
  {
   "cell_type": "markdown",
   "metadata": {},
   "source": [
    "In **Mash** (Ondov et al., 2016), a sub-sampling of the k-mers is performed using the MinHash approach (keeping by default the tool only use 1,000 k-mers per sample). The method outputs then a Jaccard distance between samples."
   ]
  },
  {
   "cell_type": "code",
   "execution_count": null,
   "metadata": {},
   "outputs": [],
   "source": [
    "# How many different k-mers of size 21bp exists?\n",
    "# With that in mind, why do you think MASH uses a sub-sampling approach?"
   ]
  },
  {
   "cell_type": "markdown",
   "metadata": {},
   "source": [
    "# Exercise 1: Kmer size and metagenome clustering"
   ]
  },
  {
   "cell_type": "markdown",
   "metadata": {},
   "source": [
    "Tools like **SIMKA** rely on document-based distances to evaluate distances between metagenomes. In this model, reads are sentences, and kmers are words. Kmers frequency in the metagenome is computed and used to calculate a distance between metagenomes. "
   ]
  },
  {
   "cell_type": "code",
   "execution_count": 13,
   "metadata": {},
   "outputs": [],
   "source": [
    "# Do you think that this method can be used on assemblies? Why ?"
   ]
  },
  {
   "cell_type": "markdown",
   "metadata": {},
   "source": [
    "Let's consider the following read sequence:\n",
    "**ATTGTGGATTC**\n",
    "\n",
    "This sequences contains 8 different kmers of length 3bp:\n",
    "ATT (x2), TTG, TGT, GTG, TGG, GGA, GAT, TTC"
   ]
  },
  {
   "cell_type": "code",
   "execution_count": 14,
   "metadata": {},
   "outputs": [],
   "source": [
    "# How many distinct kmers of length 4 bp are there in the above sequence?"
   ]
  },
  {
   "cell_type": "markdown",
   "metadata": {},
   "source": [
    "The shiny app accessible here https://aponsero.shinyapps.io/as12_app/ shows the result obtained using SIMKA and a ward clustering on 6 metagenomes from the HMP: 3 stool metagenomes, 2 tongue metagenome and a dental plaque metagenome.\n",
    "\n",
    "The result of the clustering is shown through a dendogram for different kmer size, that you can change through the drop down menu."
   ]
  },
  {
   "cell_type": "code",
   "execution_count": 15,
   "metadata": {},
   "outputs": [],
   "source": [
    "# Look at the clustering for the different kmer size, what do you observe? \n",
    "# What kmer sizes seem to be the most appropriate for the analysis?"
   ]
  },
  {
   "cell_type": "markdown",
   "metadata": {},
   "source": [
    "# Exercise 2: distance metric choice\n",
    "\n",
    "Aside from the kmer length, it is also possible to consider different distance metric. Two very common distances are Bray-curtis dissimilarity and Jaccard distance.\n",
    "\n",
    "The **Bray-Curtis dissimilarity** is explained here: https://en.wikipedia.org/wiki/Bray%E2%80%93Curtis_dissimilarity\n",
    "\n",
    "The **Jaccard distance** is explained here: https://en.wikipedia.org/wiki/Jaccard_index\n"
   ]
  },
  {
   "cell_type": "code",
   "execution_count": 16,
   "metadata": {},
   "outputs": [],
   "source": [
    "# Which of these two metrics take into account both the species present and their abundance?"
   ]
  },
  {
   "cell_type": "markdown",
   "metadata": {},
   "source": [
    "In the second tab of the shiny app, you'll see the clustering obtained using Bray-curtis and the Jaccard distance on the previous set of metagenomes for a kmer size of 31."
   ]
  },
  {
   "cell_type": "code",
   "execution_count": null,
   "metadata": {},
   "outputs": [],
   "source": [
    "# What difference do you see between the two distances? What could be an explanation?"
   ]
  }
 ],
 "metadata": {
  "kernelspec": {
   "display_name": "Python 3",
   "language": "python",
   "name": "python3"
  },
  "language_info": {
   "codemirror_mode": {
    "name": "ipython",
    "version": 3
   },
   "file_extension": ".py",
   "mimetype": "text/x-python",
   "name": "python",
   "nbconvert_exporter": "python",
   "pygments_lexer": "ipython3",
   "version": "3.5.5"
  }
 },
 "nbformat": 4,
 "nbformat_minor": 1
}
