{
 "cells": [
  {
   "cell_type": "markdown",
   "metadata": {},
   "source": [
    "# Background: clustering documents by similarity\n",
    "\n",
    "***Picture yourself reading an awesome article online about metagenomics. After finishing the article, you try to find other articles on the same topic. How can you retrieve similar articles? How do recommendation systems work?***\n",
    "\n",
    "This assignment will focus on understanding key concepts of document retrieval and clustering. Then, next in the assignment will explore how some bioinformatic tools that apply these concepts to metagenomics."
   ]
  },
  {
   "cell_type": "markdown",
   "metadata": {},
   "source": [
    "# Exercise 1: Word counts and bag of words model\n",
    "\n",
    "So you want to retrieve other articles about metagenomics. But how do we do this? There are many articles out there and you don't want to go and read everything posted on the internet.\n",
    "\n",
    "So we need a way to automatically retrieve a document that might be of interest. To achieve this, first we need to decide how to measure similarity between articles? Next, we need to find a second article is similar to the one you're reading now.\n",
    "\n",
    "The bag of word model is a very popular method where we simply ignore the order of words that are present in the document. This model doesn't take into account the structure of the document (the order of the words),but instead simply counts the number of instances of every word in the document.\n",
    "\n",
    "So let's look at a specific example of this, by taking two very short documents :\n",
    "\n",
    "Document 1: *Metagenomics uses the genetic material directly from the environment.*\n",
    "\n",
    "Document 2: *We extracted the genetic material from the soil samples.*\n",
    "\n",
    "In order to assess how similar these two documents are, we can use word counts."
   ]
  },
  {
   "cell_type": "code",
   "execution_count": 4,
   "metadata": {
    "collapsed": true
   },
   "outputs": [],
   "source": [
    "# Look at the word dictionary for the document 1:\n",
    "\n",
    "document1 ={\n",
    "    \"metagenomics\": 1,\n",
    "    \"uses\": 1,\n",
    "    \"the\": 2,\n",
    "    \"genetic\":1,\n",
    "    \"material\":1,\n",
    "    \"directly\":1,\n",
    "    \"from\":1,\n",
    "    \"environment\":1\n",
    "}\n",
    "\n",
    "#create a similar dictionary for the document 2:\n",
    "\n",
    "document2 ={\n",
    "    \"we\": 1,\n",
    "    \"extracted\": 1,\n",
    "    \"the\": 2,\n",
    "    \"genetic\": 1,\n",
    "    \"material\": 1,\n",
    "    \"from\": 1,\n",
    "    \"soil\": 1,\n",
    "    \"samples\": 1\n",
    "    # fill the dictionary\n",
    "}"
   ]
  },
  {
   "cell_type": "markdown",
   "metadata": {},
   "source": [
    "We can then use these words counts to calulate a simple euclidean distance between the documents. This is easily calculated as an element-wise product over this vector.\n",
    "\n",
    "For example, the distance between the sentences \"It is a pretty cake\" and \"the cake is a lie\" is :\n",
    "\n",
    "![alt text](data/img/cake.png \"Title\")"
   ]
  },
  {
   "cell_type": "code",
   "execution_count": 3,
   "metadata": {
    "collapsed": true
   },
   "outputs": [],
   "source": [
    "# calculate the distance for the Document 1 and 2.\n",
    "\n",
    "# create a unique list of words\n",
    "bow = {}\n",
    "for word in document1.keys():\n",
    "    if bow[word]:\n",
    "       bow[word] += 1\n",
    "    else:\n",
    "        bow[word] = 1\n",
    "\n",
    "for word in document2.keys():\n",
    "    if bow[word]:\n",
    "       bow[word] += 1\n",
    "    else:\n",
    "        bow[word] = 1\n",
    "    \n",
    "for word in \n"
   ]
  },
  {
   "cell_type": "markdown",
   "metadata": {},
   "source": [
    "Now consider the following documents :\n",
    "    \n",
    "Document 3: *Metagenomics uses the genetic material directly from the environment. Metagenomics uses the genetic material directly from the environment.*\n",
    "\n",
    "Document 4: *We extracted the genetic material from the samples. We extracted the genetic material from the samples.*"
   ]
  },
  {
   "cell_type": "code",
   "execution_count": 4,
   "metadata": {
    "collapsed": true
   },
   "outputs": [],
   "source": [
    "# calculate the distances between document 3 and 4. What do you observe? "
   ]
  },
  {
   "cell_type": "markdown",
   "metadata": {},
   "source": [
    "In order to correct for this bias toward long documents, we can normalize these counts :\n",
    "\n",
    "![alt text](data/img/norm_cake.png \"Title\")"
   ]
  },
  {
   "cell_type": "code",
   "execution_count": 6,
   "metadata": {
    "collapsed": true
   },
   "outputs": [],
   "source": [
    "# calculate the normalized distance between document 1 and 2 and between 3 and 4."
   ]
  },
  {
   "cell_type": "markdown",
   "metadata": {},
   "source": [
    "# Background : prioritizing important words using TF-IDF distances\n",
    "\n",
    "The normalized distance that we just described helped address some of the issues with our original proposal of just using raw word counts as our representation of the document.\n",
    "\n",
    "But there's another issue, which is that we would like to emphasize the important words in a document. But, defining what is an important word is, is difficult. However, as an easy mathematical rule we could say that words like \"a\", \"the\", that are very abundant in every documents are not very important. **On the other hand, words that are abundant in one document but not in the rest of the corpus are important.**\n",
    "\n",
    "In order to take into account the importance of words in our distance calculation, we can use the TF-IDF model (“Term Frequency — Inverse Data Frequency”).\n",
    "\n",
    "* Term Frequency (tf): gives us the frequency of the word in each document in the corpus. It is the ratio of the number of times the word appears in a document compared to the total number of words in that document. It increases as the number of occurrences of that word within the document increases. Each document has its own tf.\n",
    "\n",
    "![alt text](data/img/TF1.png \"Title\")\n",
    "\n",
    "***with n(ij) the number of occurences of the term i in the document j\n",
    "and tf(ij) the term frequency of the term i in the document j***\n",
    "\n",
    "\n",
    "* Inverse Data Frequency (idf): is used to calculate the weight of rare words across all documents in the corpus. The words that occur rarely in the corpus have a high IDF score. This is shown by the equation below.\n",
    "\n",
    "![alt text](data/img/IDF1.png \"Title\")\n",
    "\n",
    "***with N the number of documents \n",
    "and df(i) the number of documents containing the term i***\n",
    "\n",
    "* Combining these two we come up with the TF-IDF score (w) for a word in a document in the corpus. It is the product of tf and idf:\n",
    "\n",
    "![alt text](data/img/TF-IDF1.png \"Title\")\n"
   ]
  },
  {
   "cell_type": "markdown",
   "metadata": {},
   "source": [
    "In our small \"cake\" example, we would get: \n",
    "\n",
    "![alt text](data/img/tf_idf_cake.png \"Title\")\n",
    "\n",
    "Now let's use python to compute automatically the tf-idf of simple examples :"
   ]
  },
  {
   "cell_type": "code",
   "execution_count": 1,
   "metadata": {},
   "outputs": [],
   "source": [
    "import math\n",
    "#Let's define the following function to calulate TF of a dictionary:\n",
    "\n",
    "def getTF(dico, bow):\n",
    "    tfDico = {}\n",
    "    bowCt = len(bow)\n",
    "    for term, count in dico.items():\n",
    "        tfDico[term] = count/float(bowCt)\n",
    "    return tfDico\n",
    "\n",
    "#Let's define a function to calculate the IDF:\n",
    "\n",
    "def getIDF(docList):\n",
    "    idfDico = {}\n",
    "    N = len(docList)\n",
    "    \n",
    "    idfDico = dict.fromkeys(docList[0].keys(), 0)\n",
    "    for doc in docList:\n",
    "        for word, val in doc.items():\n",
    "            if val > 0:\n",
    "                idfDico[word] += 1\n",
    "    \n",
    "    for word, val in idfDico.items():\n",
    "        idfDico[word] = math.log10(N / float(val))\n",
    "        \n",
    "    return idfDico \n",
    "\n",
    "#finally let's define the IDF-IDF function: \n",
    "\n",
    "def getTFIDF(tfBow, idfs):\n",
    "    tfidf ={}\n",
    "    for term, val in tfBow.items():\n",
    "        tfidf[term]=val*idfs[term]\n",
    "    return tfidf"
   ]
  },
  {
   "cell_type": "code",
   "execution_count": 2,
   "metadata": {},
   "outputs": [],
   "source": [
    "# let's calculate the TF-IDF for our cake sentences\n",
    "cakeA = \"it is a pretty cake\"\n",
    "cakeB = \"the cake is a lie\"\n",
    "cakeC = \"I eat my pretty cake\"\n",
    "bowA = cakeA.split(\" \")\n",
    "bowB = cakeB.split(\" \")\n",
    "bowC = cakeC.split(\" \")\n",
    "wordSet = set(set(bowA).union(set(bowB)).union(bowC))\n",
    "wordDictA = dict.fromkeys(wordSet, 0) \n",
    "wordDictB = dict.fromkeys(wordSet, 0) \n",
    "wordDictC = dict.fromkeys(wordSet, 0) \n",
    "\n",
    "for word in bowA:\n",
    "    wordDictA[word]+=1\n",
    "    \n",
    "for word in bowB:\n",
    "    wordDictB[word]+=1\n",
    "    \n",
    "for word in bowC:\n",
    "    wordDictC[word]+=1\n",
    "    \n",
    "# calculate the TF\n",
    "tfBowA = getTF(wordDictA, bowA)\n",
    "tfBowB = getTF(wordDictB, bowB)\n",
    "tfBowC = getTF(wordDictC, bowC)\n",
    "#calulcate the IDF\n",
    "idfs = getIDF([wordDictA, wordDictB, wordDictC])\n",
    "#get the TF-IDF\n",
    "tfidfBowA = getTFIDF(tfBowA, idfs)\n",
    "tfidfBowB = getTFIDF(tfBowB, idfs)\n",
    "tfidfBowC = getTFIDF(tfBowC, idfs)"
   ]
  },
  {
   "cell_type": "code",
   "execution_count": 3,
   "metadata": {},
   "outputs": [
    {
     "data": {
      "text/html": [
       "<div>\n",
       "<style scoped>\n",
       "    .dataframe tbody tr th:only-of-type {\n",
       "        vertical-align: middle;\n",
       "    }\n",
       "\n",
       "    .dataframe tbody tr th {\n",
       "        vertical-align: top;\n",
       "    }\n",
       "\n",
       "    .dataframe thead th {\n",
       "        text-align: right;\n",
       "    }\n",
       "</style>\n",
       "<table border=\"1\" class=\"dataframe\">\n",
       "  <thead>\n",
       "    <tr style=\"text-align: right;\">\n",
       "      <th></th>\n",
       "      <th>is</th>\n",
       "      <th>it</th>\n",
       "      <th>pretty</th>\n",
       "      <th>the</th>\n",
       "      <th>lie</th>\n",
       "      <th>cake</th>\n",
       "      <th>eat</th>\n",
       "      <th>I</th>\n",
       "      <th>a</th>\n",
       "      <th>my</th>\n",
       "    </tr>\n",
       "  </thead>\n",
       "  <tbody>\n",
       "    <tr>\n",
       "      <th>0</th>\n",
       "      <td>0.035218</td>\n",
       "      <td>0.095424</td>\n",
       "      <td>0.035218</td>\n",
       "      <td>0.000000</td>\n",
       "      <td>0.000000</td>\n",
       "      <td>0.0</td>\n",
       "      <td>0.000000</td>\n",
       "      <td>0.000000</td>\n",
       "      <td>0.035218</td>\n",
       "      <td>0.000000</td>\n",
       "    </tr>\n",
       "    <tr>\n",
       "      <th>1</th>\n",
       "      <td>0.035218</td>\n",
       "      <td>0.000000</td>\n",
       "      <td>0.000000</td>\n",
       "      <td>0.095424</td>\n",
       "      <td>0.095424</td>\n",
       "      <td>0.0</td>\n",
       "      <td>0.000000</td>\n",
       "      <td>0.000000</td>\n",
       "      <td>0.035218</td>\n",
       "      <td>0.000000</td>\n",
       "    </tr>\n",
       "    <tr>\n",
       "      <th>2</th>\n",
       "      <td>0.000000</td>\n",
       "      <td>0.000000</td>\n",
       "      <td>0.035218</td>\n",
       "      <td>0.000000</td>\n",
       "      <td>0.000000</td>\n",
       "      <td>0.0</td>\n",
       "      <td>0.095424</td>\n",
       "      <td>0.095424</td>\n",
       "      <td>0.000000</td>\n",
       "      <td>0.095424</td>\n",
       "    </tr>\n",
       "  </tbody>\n",
       "</table>\n",
       "</div>"
      ],
      "text/plain": [
       "         is        it    pretty       the       lie  cake       eat         I  \\\n",
       "0  0.035218  0.095424  0.035218  0.000000  0.000000   0.0  0.000000  0.000000   \n",
       "1  0.035218  0.000000  0.000000  0.095424  0.095424   0.0  0.000000  0.000000   \n",
       "2  0.000000  0.000000  0.035218  0.000000  0.000000   0.0  0.095424  0.095424   \n",
       "\n",
       "          a        my  \n",
       "0  0.035218  0.000000  \n",
       "1  0.035218  0.000000  \n",
       "2  0.000000  0.095424  "
      ]
     },
     "execution_count": 3,
     "metadata": {},
     "output_type": "execute_result"
    }
   ],
   "source": [
    "import pandas as pd\n",
    "frame = pd.DataFrame([tfidfBowA, tfidfBowB, tfidfBowC])\n",
    "pd.DataFrame([tfidfBowA, tfidfBowB, tfidfBowC])"
   ]
  },
  {
   "cell_type": "markdown",
   "metadata": {},
   "source": [
    " # Background : Cosine distance to compute distance between documents\n",
    " \n",
    "We now have vectors of tf-idfs for the terms in each documents. We need now to compute a distance between the vectors. There are various ways to measure similarity or distances between two vectors, or in this case two documents.\n",
    "\n",
    "In this exercise we'll use a **cosine distance**. This distance is basically the cosine of the angle between the two vectors projected in a multi-dimensional space. I know. It doesn't really help.\n",
    "This distance is great because it doesn't need normalization, and can naturally handle documents of different sizes without any trouble.\n",
    "\n",
    "Although you don't really need to understand the cosine distance for this exercise, you can learn more about this in this great blog post : https://www.machinelearningplus.com/nlp/cosine-similarity/"
   ]
  },
  {
   "cell_type": "code",
   "execution_count": 4,
   "metadata": {},
   "outputs": [
    {
     "name": "stdout",
     "output_type": "stream",
     "text": [
      "0.15226617440564283\n"
     ]
    }
   ],
   "source": [
    "from scipy import spatial\n",
    "\n",
    "dataSet1 = frame.iloc[[0]].to_numpy()\n",
    "dataSet2 = frame.iloc[[1]].to_numpy()\n",
    "dataSet3 = frame.iloc[[2]].to_numpy()\n",
    "result12 = 1 - spatial.distance.cosine(dataSet1, dataSet2)\n",
    "print(result12)"
   ]
  },
  {
   "cell_type": "markdown",
   "metadata": {},
   "source": [
    "# Exercise 2: Use TF-IDF and cosine distance \n",
    "\n",
    "Now, it is your turn to calculate the distances between the following sentences :\n",
    "\n",
    "A = \"Metagenomics uses the genetic material directly from the environment.\"\n",
    "\n",
    "B = \"We extracted the genetic material from the soil samples.\"\n",
    "\n",
    "C = \"We love metagenomics and this awesome class\""
   ]
  },
  {
   "cell_type": "code",
   "execution_count": 25,
   "metadata": {},
   "outputs": [],
   "source": [
    "# Calculate the TF-IDF for the sentences :\n",
    "sentA = \"\"#your code here\n",
    "sentB = \"\"#your code here\n",
    "sentC = \"\"#your code here\n",
    "bowA = sentA.split(\" \")\n",
    "bowB = sentB.split(\" \")\n",
    "bowC = sentC.split(\" \")\n",
    "wordSet = set(set(bowA).union(set(bowB)).union(bowC))\n",
    "wordDictA = dict.fromkeys(wordSet, 0) \n",
    "wordDictB = dict.fromkeys(wordSet, 0) \n",
    "wordDictC = dict.fromkeys(wordSet, 0) \n",
    "\n",
    "for word in bowA:\n",
    "    wordDictA[word]+=1\n",
    "    \n",
    "for word in bowB:\n",
    "    wordDictB[word]+=1\n",
    "    \n",
    "for word in bowC:\n",
    "    wordDictC[word]+=1\n",
    "    \n",
    "# calculate the TF\n",
    "tfBowA = getTF(wordDictA, bowA)\n",
    "tfBowB = getTF(wordDictB, bowB)\n",
    "tfBowC = getTF(wordDictC, bowC)\n",
    "#calulcate the IDF\n",
    "idfs = getIDF([wordDictA, wordDictB, wordDictC])\n",
    "#get the TF-IDF\n",
    "tfidfBowA = getTFIDF(tfBowA, idfs)\n",
    "tfidfBowB = getTFIDF(tfBowB, idfs)\n",
    "tfidfBowC = getTFIDF(tfBowC, idfs)\n",
    "\n",
    "frame = pd.DataFrame([tfidfBowA, tfidfBowB, tfidfBowC])\n",
    "pd.DataFrame([tfidfBowA, tfidfBowB, tfidfBowC])"
   ]
  },
  {
   "cell_type": "code",
   "execution_count": 23,
   "metadata": {},
   "outputs": [],
   "source": [
    "# Here use the cosine distance between the pairs of sentences\n",
    "dataSet1 = frame.iloc[[0]].to_numpy()\n",
    "dataSet2 = frame.iloc[[1]].to_numpy()\n",
    "dataSet3 = frame.iloc[[2]].to_numpy()\n",
    "result12 = 1 - spatial.distance.cosine(#your code here)\n",
    "result13 = 1 - spatial.distance.cosine(#your code here)\n",
    "result23 = 1 - spatial.distance.cosine(#your code here)\n",
    "print(#your code here)\n",
    "print(#your code here)\n",
    "print(#your code here)"
   ]
  },
  {
   "cell_type": "markdown",
   "metadata": {},
   "source": [
    "# Exercise 3: Clustering documents that are similar to each other\n",
    "\n",
    "We retrieved pages from biographies from real people from wikipedia and processed the text to obtain the tf-idf of each term."
   ]
  },
  {
   "cell_type": "code",
   "execution_count": 5,
   "metadata": {},
   "outputs": [
    {
     "data": {
      "text/html": [
       "<div>\n",
       "<style scoped>\n",
       "    .dataframe tbody tr th:only-of-type {\n",
       "        vertical-align: middle;\n",
       "    }\n",
       "\n",
       "    .dataframe tbody tr th {\n",
       "        vertical-align: top;\n",
       "    }\n",
       "\n",
       "    .dataframe thead th {\n",
       "        text-align: right;\n",
       "    }\n",
       "</style>\n",
       "<table border=\"1\" class=\"dataframe\">\n",
       "  <thead>\n",
       "    <tr style=\"text-align: right;\">\n",
       "      <th></th>\n",
       "      <th>URI</th>\n",
       "      <th>name</th>\n",
       "      <th>text</th>\n",
       "      <th>word_count</th>\n",
       "      <th>tfidf</th>\n",
       "    </tr>\n",
       "  </thead>\n",
       "  <tbody>\n",
       "    <tr>\n",
       "      <th>0</th>\n",
       "      <td>&lt;http://dbpedia.org/resource/Barack_Obama&gt;</td>\n",
       "      <td>Barack Obama</td>\n",
       "      <td>barack hussein obama ii brk husen bm born augu...</td>\n",
       "      <td>{\"cuba\":1,\"relations\":1,\"sought\":1,\"combat\":1,...</td>\n",
       "      <td>{\"cuba\":2.3979,\"relations\":1.29928,\"sought\":1....</td>\n",
       "    </tr>\n",
       "    <tr>\n",
       "      <th>1</th>\n",
       "      <td>&lt;http://dbpedia.org/resource/Joe_Biden&gt;</td>\n",
       "      <td>Joe Biden</td>\n",
       "      <td>joseph robinette joe biden jr dosf rbnt badn b...</td>\n",
       "      <td>{\"cliff\":1,\"fiscal\":1,\"impending\":1,\"budget\":1...</td>\n",
       "      <td>{\"cliff\":2.3979,\"fiscal\":2.3979,\"impending\":2....</td>\n",
       "    </tr>\n",
       "    <tr>\n",
       "      <th>2</th>\n",
       "      <td>&lt;http://dbpedia.org/resource/Bill_Clinton&gt;</td>\n",
       "      <td>Bill Clinton</td>\n",
       "      <td>william jefferson bill clinton born william je...</td>\n",
       "      <td>{\"polls\":1,\"rated\":1,\"2010\":1,\"envoy\":1,\"natio...</td>\n",
       "      <td>{\"polls\":2.3979,\"rated\":2.3979,\"2010\":0.200671...</td>\n",
       "    </tr>\n",
       "    <tr>\n",
       "      <th>3</th>\n",
       "      <td>&lt;http://dbpedia.org/resource/George_Clooney&gt;</td>\n",
       "      <td>George Clooney</td>\n",
       "      <td>george timothy clooney born may 6 1961 is an a...</td>\n",
       "      <td>{\"relations\":1,\"member\":1,\"international\":1,\"a...</td>\n",
       "      <td>{\"relations\":1.29928,\"member\":1.0116,\"internat...</td>\n",
       "    </tr>\n",
       "    <tr>\n",
       "      <th>4</th>\n",
       "      <td>&lt;http://dbpedia.org/resource/Brad_Pitt&gt;</td>\n",
       "      <td>Brad Pitt</td>\n",
       "      <td>william bradley brad pitt born december 18 196...</td>\n",
       "      <td>{\"united\":1,\"social\":1,\"involved\":1,\"increasin...</td>\n",
       "      <td>{\"united\":0.318454,\"social\":2.3979,\"involved\":...</td>\n",
       "    </tr>\n",
       "    <tr>\n",
       "      <th>5</th>\n",
       "      <td>&lt;http://dbpedia.org/resource/Angelina_Jolie&gt;</td>\n",
       "      <td>Angelina Jolie</td>\n",
       "      <td>angelina jolie doli johlee born angelina jolie...</td>\n",
       "      <td>{\"internationally\":1,\"adopted\":1,\"were\":1,\"chi...</td>\n",
       "      <td>{\"internationally\":1.70475,\"adopted\":2.3979,\"w...</td>\n",
       "    </tr>\n",
       "    <tr>\n",
       "      <th>6</th>\n",
       "      <td>&lt;http://dbpedia.org/resource/Julianne_Moore&gt;</td>\n",
       "      <td>Julianne Moore</td>\n",
       "      <td>julianne moore born julie anne smith december ...</td>\n",
       "      <td>{\"freundlich\":1,\"bart\":1,\"successful\":1,\"writt...</td>\n",
       "      <td>{\"freundlich\":2.3979,\"bart\":2.3979,\"successful...</td>\n",
       "    </tr>\n",
       "    <tr>\n",
       "      <th>7</th>\n",
       "      <td>&lt;http://dbpedia.org/resource/Arnold_Schwarzene...</td>\n",
       "      <td>Arnold Schwarzenegger</td>\n",
       "      <td>arnold alois schwarzenegger wrtsnr german anlt...</td>\n",
       "      <td>{\"class\":1,\"hall\":1,\"into\":1,\"26\":1,\"john\":1,\"...</td>\n",
       "      <td>{\"class\":2.3979,\"hall\":1.70475,\"into\":1.29928,...</td>\n",
       "    </tr>\n",
       "    <tr>\n",
       "      <th>8</th>\n",
       "      <td>&lt;http://dbpedia.org/resource/Taylor_Swift&gt;</td>\n",
       "      <td>Taylor Swift</td>\n",
       "      <td>taylor alison swift born december 13 1989 is a...</td>\n",
       "      <td>{\"antidiscrimination\":1,\"literacy\":1,\"children...</td>\n",
       "      <td>{\"antidiscrimination\":2.3979,\"literacy\":2.3979...</td>\n",
       "    </tr>\n",
       "    <tr>\n",
       "      <th>9</th>\n",
       "      <td>&lt;http://dbpedia.org/resource/Alicia_Keys&gt;</td>\n",
       "      <td>Alicia Keys</td>\n",
       "      <td>alicia augello cook born january 25 1981 known...</td>\n",
       "      <td>{\"14th\":1,\"february\":1,\"years\":1,\"past\":1,\"pla...</td>\n",
       "      <td>{\"14th\":2.3979,\"february\":2.3979,\"years\":0.451...</td>\n",
       "    </tr>\n",
       "    <tr>\n",
       "      <th>10</th>\n",
       "      <td>&lt;http://dbpedia.org/resource/Billy_Bob_Thornton&gt;</td>\n",
       "      <td>Billy Bob Thornton</td>\n",
       "      <td>billy bob thornton born august 4 1955 is an am...</td>\n",
       "      <td>{\"boxmasters\":1,\"rock\":1,\"solo\":1,\"released\":1...</td>\n",
       "      <td>{\"boxmasters\":2.3979,\"rock\":2.3979,\"solo\":2.39...</td>\n",
       "    </tr>\n",
       "  </tbody>\n",
       "</table>\n",
       "</div>"
      ],
      "text/plain": [
       "                                                  URI                   name  \\\n",
       "0          <http://dbpedia.org/resource/Barack_Obama>           Barack Obama   \n",
       "1             <http://dbpedia.org/resource/Joe_Biden>              Joe Biden   \n",
       "2          <http://dbpedia.org/resource/Bill_Clinton>           Bill Clinton   \n",
       "3        <http://dbpedia.org/resource/George_Clooney>         George Clooney   \n",
       "4             <http://dbpedia.org/resource/Brad_Pitt>              Brad Pitt   \n",
       "5        <http://dbpedia.org/resource/Angelina_Jolie>         Angelina Jolie   \n",
       "6        <http://dbpedia.org/resource/Julianne_Moore>         Julianne Moore   \n",
       "7   <http://dbpedia.org/resource/Arnold_Schwarzene...  Arnold Schwarzenegger   \n",
       "8          <http://dbpedia.org/resource/Taylor_Swift>           Taylor Swift   \n",
       "9           <http://dbpedia.org/resource/Alicia_Keys>            Alicia Keys   \n",
       "10   <http://dbpedia.org/resource/Billy_Bob_Thornton>     Billy Bob Thornton   \n",
       "\n",
       "                                                 text  \\\n",
       "0   barack hussein obama ii brk husen bm born augu...   \n",
       "1   joseph robinette joe biden jr dosf rbnt badn b...   \n",
       "2   william jefferson bill clinton born william je...   \n",
       "3   george timothy clooney born may 6 1961 is an a...   \n",
       "4   william bradley brad pitt born december 18 196...   \n",
       "5   angelina jolie doli johlee born angelina jolie...   \n",
       "6   julianne moore born julie anne smith december ...   \n",
       "7   arnold alois schwarzenegger wrtsnr german anlt...   \n",
       "8   taylor alison swift born december 13 1989 is a...   \n",
       "9   alicia augello cook born january 25 1981 known...   \n",
       "10  billy bob thornton born august 4 1955 is an am...   \n",
       "\n",
       "                                           word_count  \\\n",
       "0   {\"cuba\":1,\"relations\":1,\"sought\":1,\"combat\":1,...   \n",
       "1   {\"cliff\":1,\"fiscal\":1,\"impending\":1,\"budget\":1...   \n",
       "2   {\"polls\":1,\"rated\":1,\"2010\":1,\"envoy\":1,\"natio...   \n",
       "3   {\"relations\":1,\"member\":1,\"international\":1,\"a...   \n",
       "4   {\"united\":1,\"social\":1,\"involved\":1,\"increasin...   \n",
       "5   {\"internationally\":1,\"adopted\":1,\"were\":1,\"chi...   \n",
       "6   {\"freundlich\":1,\"bart\":1,\"successful\":1,\"writt...   \n",
       "7   {\"class\":1,\"hall\":1,\"into\":1,\"26\":1,\"john\":1,\"...   \n",
       "8   {\"antidiscrimination\":1,\"literacy\":1,\"children...   \n",
       "9   {\"14th\":1,\"february\":1,\"years\":1,\"past\":1,\"pla...   \n",
       "10  {\"boxmasters\":1,\"rock\":1,\"solo\":1,\"released\":1...   \n",
       "\n",
       "                                                tfidf  \n",
       "0   {\"cuba\":2.3979,\"relations\":1.29928,\"sought\":1....  \n",
       "1   {\"cliff\":2.3979,\"fiscal\":2.3979,\"impending\":2....  \n",
       "2   {\"polls\":2.3979,\"rated\":2.3979,\"2010\":0.200671...  \n",
       "3   {\"relations\":1.29928,\"member\":1.0116,\"internat...  \n",
       "4   {\"united\":0.318454,\"social\":2.3979,\"involved\":...  \n",
       "5   {\"internationally\":1.70475,\"adopted\":2.3979,\"w...  \n",
       "6   {\"freundlich\":2.3979,\"bart\":2.3979,\"successful...  \n",
       "7   {\"class\":2.3979,\"hall\":1.70475,\"into\":1.29928,...  \n",
       "8   {\"antidiscrimination\":2.3979,\"literacy\":2.3979...  \n",
       "9   {\"14th\":2.3979,\"february\":2.3979,\"years\":0.451...  \n",
       "10  {\"boxmasters\":2.3979,\"rock\":2.3979,\"solo\":2.39...  "
      ]
     },
     "execution_count": 5,
     "metadata": {},
     "output_type": "execute_result"
    }
   ],
   "source": [
    "#let's load the dataset :\n",
    "pd.read_csv('data/selected_profiles_tfidf.csv')"
   ]
  },
  {
   "cell_type": "markdown",
   "metadata": {},
   "source": [
    "For this dataset, the cosine distance on the tf-idf scores of 'Barack Obama' and 'Bill Clinton' is 0.8339854936884276\n",
    "on the other hand, the distance between 'Barack Obama' and 'Arnold Schwarzenegger' is 0.9457679406995915"
   ]
  },
  {
   "cell_type": "code",
   "execution_count": 16,
   "metadata": {},
   "outputs": [],
   "source": [
    "# Does this result make sense? Explain briefly."
   ]
  },
  {
   "cell_type": "code",
   "execution_count": 6,
   "metadata": {},
   "outputs": [],
   "source": [
    "from matplotlib import pyplot as plt\n",
    "from scipy.cluster.hierarchy import dendrogram, linkage\n",
    "import numpy as np\n",
    "from scipy.spatial.distance import pdist, squareform\n",
    "from scipy.cluster.hierarchy import ward, fcluster\n",
    "\n",
    "# settings for this notebook to actually show the graphs inline\n",
    "%matplotlib inline\n",
    "np.set_printoptions(precision=5, suppress=True)  # suppress scientific float notation"
   ]
  },
  {
   "cell_type": "markdown",
   "metadata": {},
   "source": [
    "First we'll need to import the distance matrix from the distance_sq file. This matrix contains the pair-wise cosine distance on the tf-idf."
   ]
  },
  {
   "cell_type": "code",
   "execution_count": 7,
   "metadata": {},
   "outputs": [],
   "source": [
    "dist_sq= pd.read_csv('data/distance_sq.csv', header=None)\n",
    "names=['Obama','Biden','Clinton','Clooney','Pitt','Jolie','Moore','Schwarzenegger','Swift','Keys']\n",
    "dist_cond=squareform(dist_sq)"
   ]
  },
  {
   "cell_type": "markdown",
   "metadata": {},
   "source": [
    "We then compute a hierarchical clustering using the 'ward' method."
   ]
  },
  {
   "cell_type": "code",
   "execution_count": 8,
   "metadata": {},
   "outputs": [],
   "source": [
    "Z = linkage(dist_cond, 'ward')"
   ]
  },
  {
   "cell_type": "code",
   "execution_count": 30,
   "metadata": {},
   "outputs": [
    {
     "data": {
      "image/png": "[encoded data removed]",
      "text/plain": [
       "<Figure size 1800x720 with 1 Axes>"
      ]
     },
     "metadata": {
      "needs_background": "light"
     },
     "output_type": "display_data"
    }
   ],
   "source": [
    "# calculate full dendrogram\n",
    "plt.figure(figsize=(25, 10))\n",
    "plt.title('Hierarchical Clustering Dendrogram')\n",
    "plt.xlabel('sample index')\n",
    "plt.ylabel('distance')\n",
    "dendrogram(\n",
    "    Z,\n",
    "    leaf_rotation=90.,  # rotates the x axis labels\n",
    "    leaf_font_size=10.,  # font size for the x axis labels\n",
    "    labels=names, #add the names of the samples\n",
    ")\n",
    "plt.show()"
   ]
  },
  {
   "cell_type": "markdown",
   "metadata": {},
   "source": [
    "In case you're wondering about where the colors come from, you might want to have a look at the color_threshold argument of dendrogram(), which as not specified in our code, automagically picked a distance cut-off value of 0.7 of the final merge and then colored the first clusters below that threshold in individual colors."
   ]
  },
  {
   "cell_type": "code",
   "execution_count": 36,
   "metadata": {},
   "outputs": [],
   "source": [
    "# add the color_treshold=0.7 argument in the dendogram function. Then change the cut-off value of colors to \n",
    "# get clusters that make sense"
   ]
  }
 ],
 "metadata": {
  "kernelspec": {
   "display_name": "Python 3",
   "language": "python",
   "name": "python3"
  },
  "language_info": {
   "codemirror_mode": {
    "name": "ipython",
    "version": 3
   },
   "file_extension": ".py",
   "mimetype": "text/x-python",
   "name": "python",
   "nbconvert_exporter": "python",
   "pygments_lexer": "ipython3",
   "version": "3.9.6"
  }
 },
 "nbformat": 4,
 "nbformat_minor": 1
}
